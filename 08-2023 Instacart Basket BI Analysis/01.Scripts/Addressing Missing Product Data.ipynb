{
 "cells": [
  {
   "cell_type": "markdown",
   "id": "263205f2",
   "metadata": {},
   "source": [
    "# Instacart Grocery Basket Data Analysis: Final Report Bonus\n",
    "Script by Adilya Zaripova\n",
    "\n",
    "## Addressing Missing Product Data in Instacart Analysis\n",
    "\n",
    "In our examination of the Instacart final project, our analysis solely relies on the fully integrated dataset. However, upon performing a comprehensive full outer join of the products and orders datasets, a substantial number of mismatched records came to light.\n",
    "As a part of the exercise, I've deleted 16 rows of data from the products data where product names were missing. As a result, after performing a full outer join, I encountered instances of product IDs that do not align with any corresponding products in the provided product dataset. There are also instances where distinct products share identical IDs.\n",
    "\n",
    "Scenario: I imagime flagging this issues to Instacart management and receiving a request to fix the data. \n",
    "\n",
    "1. I fix product IDs in products data set and replace them with updated values.\n",
    "2. I receive information about the products missing from the products dataset. Using this information I create a new dataframe and append it to the original products data.\n",
    "3. I confirm that the data is now fully merged and there are no missing values with the exeption of the order information for the products that have never been ordered."
   ]
  },
  {
   "cell_type": "code",
   "execution_count": 1,
   "id": "34bd8075",
   "metadata": {},
   "outputs": [],
   "source": [
    "import pandas as pd\n",
    "import numpy as np\n",
    "import os\n",
    "import seaborn as sns\n",
    "import random"
   ]
  },
  {
   "cell_type": "code",
   "execution_count": 2,
   "id": "af32bb7f",
   "metadata": {},
   "outputs": [],
   "source": [
    "path=r'C:\\Users\\frauz\\Documents\\Python Projects\\08-2023 Instacart Basket Analysis\\02.Data'"
   ]
  },
  {
   "cell_type": "markdown",
   "id": "672ac44a",
   "metadata": {},
   "source": [
    "### Identical product IDs"
   ]
  },
  {
   "cell_type": "code",
   "execution_count": 3,
   "id": "6ddd4f62",
   "metadata": {},
   "outputs": [],
   "source": [
    "# Importing the products dataset\n",
    "\n",
    "df_products=pd.read_csv(os.path.join(path, 'Prepared data', 'products_checked.csv'), index_col=False)\n",
    "df_products.drop(columns='Unnamed: 0', inplace=True)"
   ]
  },
  {
   "cell_type": "code",
   "execution_count": 4,
   "id": "1a09af65",
   "metadata": {
    "scrolled": true
   },
   "outputs": [
    {
     "data": {
      "text/html": [
       "<div>\n",
       "<style scoped>\n",
       "    .dataframe tbody tr th:only-of-type {\n",
       "        vertical-align: middle;\n",
       "    }\n",
       "\n",
       "    .dataframe tbody tr th {\n",
       "        vertical-align: top;\n",
       "    }\n",
       "\n",
       "    .dataframe thead th {\n",
       "        text-align: right;\n",
       "    }\n",
       "</style>\n",
       "<table border=\"1\" class=\"dataframe\">\n",
       "  <thead>\n",
       "    <tr style=\"text-align: right;\">\n",
       "      <th></th>\n",
       "      <th>product_id</th>\n",
       "      <th>aisle_id</th>\n",
       "      <th>department_id</th>\n",
       "      <th>prices</th>\n",
       "    </tr>\n",
       "  </thead>\n",
       "  <tbody>\n",
       "    <tr>\n",
       "      <th>count</th>\n",
       "      <td>49672.000000</td>\n",
       "      <td>49672.000000</td>\n",
       "      <td>49672.000000</td>\n",
       "      <td>49672.000000</td>\n",
       "    </tr>\n",
       "    <tr>\n",
       "      <th>mean</th>\n",
       "      <td>24850.349775</td>\n",
       "      <td>67.762442</td>\n",
       "      <td>11.728942</td>\n",
       "      <td>9.993282</td>\n",
       "    </tr>\n",
       "    <tr>\n",
       "      <th>std</th>\n",
       "      <td>14340.705287</td>\n",
       "      <td>38.315784</td>\n",
       "      <td>5.850779</td>\n",
       "      <td>453.615536</td>\n",
       "    </tr>\n",
       "    <tr>\n",
       "      <th>min</th>\n",
       "      <td>1.000000</td>\n",
       "      <td>1.000000</td>\n",
       "      <td>1.000000</td>\n",
       "      <td>1.000000</td>\n",
       "    </tr>\n",
       "    <tr>\n",
       "      <th>25%</th>\n",
       "      <td>12432.750000</td>\n",
       "      <td>35.000000</td>\n",
       "      <td>7.000000</td>\n",
       "      <td>4.100000</td>\n",
       "    </tr>\n",
       "    <tr>\n",
       "      <th>50%</th>\n",
       "      <td>24850.500000</td>\n",
       "      <td>69.000000</td>\n",
       "      <td>13.000000</td>\n",
       "      <td>7.100000</td>\n",
       "    </tr>\n",
       "    <tr>\n",
       "      <th>75%</th>\n",
       "      <td>37268.250000</td>\n",
       "      <td>100.000000</td>\n",
       "      <td>17.000000</td>\n",
       "      <td>11.100000</td>\n",
       "    </tr>\n",
       "    <tr>\n",
       "      <th>max</th>\n",
       "      <td>49688.000000</td>\n",
       "      <td>134.000000</td>\n",
       "      <td>21.000000</td>\n",
       "      <td>99999.000000</td>\n",
       "    </tr>\n",
       "  </tbody>\n",
       "</table>\n",
       "</div>"
      ],
      "text/plain": [
       "         product_id      aisle_id  department_id        prices\n",
       "count  49672.000000  49672.000000   49672.000000  49672.000000\n",
       "mean   24850.349775     67.762442      11.728942      9.993282\n",
       "std    14340.705287     38.315784       5.850779    453.615536\n",
       "min        1.000000      1.000000       1.000000      1.000000\n",
       "25%    12432.750000     35.000000       7.000000      4.100000\n",
       "50%    24850.500000     69.000000      13.000000      7.100000\n",
       "75%    37268.250000    100.000000      17.000000     11.100000\n",
       "max    49688.000000    134.000000      21.000000  99999.000000"
      ]
     },
     "execution_count": 4,
     "metadata": {},
     "output_type": "execute_result"
    }
   ],
   "source": [
    "df_products.describe()"
   ]
  },
  {
   "cell_type": "code",
   "execution_count": 5,
   "id": "5f3a4bd8",
   "metadata": {},
   "outputs": [
    {
     "data": {
      "text/plain": [
       "product_id       49670\n",
       "product_name     49672\n",
       "aisle_id           134\n",
       "department_id       21\n",
       "prices             242\n",
       "dtype: int64"
      ]
     },
     "execution_count": 5,
     "metadata": {},
     "output_type": "execute_result"
    }
   ],
   "source": [
    "# checking the number of uniqe/distinct values in each column\n",
    "\n",
    "df_products.nunique(axis=0)"
   ]
  },
  {
   "cell_type": "code",
   "execution_count": 6,
   "id": "7b91b269",
   "metadata": {},
   "outputs": [
    {
     "data": {
      "text/plain": [
       "(0, 5)"
      ]
     },
     "execution_count": 6,
     "metadata": {},
     "output_type": "execute_result"
    }
   ],
   "source": [
    "df_zero=df_products[df_products['product_name']==0]\n",
    "df_zero.shape"
   ]
  },
  {
   "cell_type": "markdown",
   "id": "171a67f2",
   "metadata": {},
   "source": [
    "#### I see that the number of unique product IDs doesn't match the number of records - 49672. That means that we have different products with the same product ID. I'm going to keep investigating."
   ]
  },
  {
   "cell_type": "code",
   "execution_count": 6,
   "id": "8a52bcec",
   "metadata": {},
   "outputs": [
    {
     "data": {
      "text/plain": [
       "26520    2\n",
       "6800     2\n",
       "1        1\n",
       "33136    1\n",
       "33127    1\n",
       "        ..\n",
       "16576    1\n",
       "16577    1\n",
       "16578    1\n",
       "16579    1\n",
       "49688    1\n",
       "Name: product_id, Length: 49670, dtype: int64"
      ]
     },
     "execution_count": 6,
     "metadata": {},
     "output_type": "execute_result"
    }
   ],
   "source": [
    "# Looking for product IDs that appear more than once\n",
    "\n",
    "df_products['product_id'].value_counts()"
   ]
  },
  {
   "cell_type": "code",
   "execution_count": 7,
   "id": "7080208e",
   "metadata": {},
   "outputs": [
    {
     "data": {
      "text/html": [
       "<div>\n",
       "<style scoped>\n",
       "    .dataframe tbody tr th:only-of-type {\n",
       "        vertical-align: middle;\n",
       "    }\n",
       "\n",
       "    .dataframe tbody tr th {\n",
       "        vertical-align: top;\n",
       "    }\n",
       "\n",
       "    .dataframe thead th {\n",
       "        text-align: right;\n",
       "    }\n",
       "</style>\n",
       "<table border=\"1\" class=\"dataframe\">\n",
       "  <thead>\n",
       "    <tr style=\"text-align: right;\">\n",
       "      <th></th>\n",
       "      <th>product_id</th>\n",
       "      <th>product_name</th>\n",
       "      <th>aisle_id</th>\n",
       "      <th>department_id</th>\n",
       "      <th>prices</th>\n",
       "    </tr>\n",
       "  </thead>\n",
       "  <tbody>\n",
       "    <tr>\n",
       "      <th>6784</th>\n",
       "      <td>6800</td>\n",
       "      <td>Revive Zero Vitamin Water</td>\n",
       "      <td>64</td>\n",
       "      <td>7</td>\n",
       "      <td>6.4</td>\n",
       "    </tr>\n",
       "    <tr>\n",
       "      <th>6785</th>\n",
       "      <td>6800</td>\n",
       "      <td>Sprouted Quinoa Flakes Baby Cereal</td>\n",
       "      <td>92</td>\n",
       "      <td>18</td>\n",
       "      <td>14.0</td>\n",
       "    </tr>\n",
       "    <tr>\n",
       "      <th>26504</th>\n",
       "      <td>26520</td>\n",
       "      <td>Clinical Advanced Solid Ultimate Fresh Anti-Pe...</td>\n",
       "      <td>80</td>\n",
       "      <td>11</td>\n",
       "      <td>10.6</td>\n",
       "    </tr>\n",
       "    <tr>\n",
       "      <th>26505</th>\n",
       "      <td>26520</td>\n",
       "      <td>Cheese Shredded Sharp Cheddar Reduced Fat 2%</td>\n",
       "      <td>21</td>\n",
       "      <td>16</td>\n",
       "      <td>2.9</td>\n",
       "    </tr>\n",
       "  </tbody>\n",
       "</table>\n",
       "</div>"
      ],
      "text/plain": [
       "       product_id                                       product_name  \\\n",
       "6784         6800                          Revive Zero Vitamin Water   \n",
       "6785         6800                 Sprouted Quinoa Flakes Baby Cereal   \n",
       "26504       26520  Clinical Advanced Solid Ultimate Fresh Anti-Pe...   \n",
       "26505       26520       Cheese Shredded Sharp Cheddar Reduced Fat 2%   \n",
       "\n",
       "       aisle_id  department_id  prices  \n",
       "6784         64              7     6.4  \n",
       "6785         92             18    14.0  \n",
       "26504        80             11    10.6  \n",
       "26505        21             16     2.9  "
      ]
     },
     "execution_count": 7,
     "metadata": {},
     "output_type": "execute_result"
    }
   ],
   "source": [
    "# Let's look at products with identical IDs\n",
    "\n",
    "df_products[df_products['product_id'].isin([26520,6800])]"
   ]
  },
  {
   "cell_type": "markdown",
   "id": "a6dbc77a",
   "metadata": {},
   "source": [
    "#### Clearly, we have an issue with product IDs: there are different products with the same IDs in the products dataset."
   ]
  },
  {
   "cell_type": "markdown",
   "id": "a7968140",
   "metadata": {},
   "source": [
    "### Missing products"
   ]
  },
  {
   "cell_type": "code",
   "execution_count": 8,
   "id": "afccbded",
   "metadata": {},
   "outputs": [],
   "source": [
    "# Importing the complete data created by full outer join of orders and products datasets\n",
    "\n",
    "df_full=pd.read_pickle(os.path.join(path, 'Prepared Data', 'orders_products_full.pkl'))"
   ]
  },
  {
   "cell_type": "code",
   "execution_count": 9,
   "id": "f4c13e3a",
   "metadata": {},
   "outputs": [
    {
     "data": {
      "text/plain": [
       "order_id                       11\n",
       "product_id                      0\n",
       "add_to_cart_order              11\n",
       "reordered                      11\n",
       "user_id                        11\n",
       "order_number                   11\n",
       "order_day_of_the_week          11\n",
       "order_hour_of_day              11\n",
       "days_since_prior_order    2078113\n",
       "product_name                30200\n",
       "aisle_id                    30200\n",
       "department_id               30200\n",
       "prices                      30200\n",
       "_merge                          0\n",
       "dtype: int64"
      ]
     },
     "execution_count": 9,
     "metadata": {},
     "output_type": "execute_result"
    }
   ],
   "source": [
    "df_full.isnull().sum()"
   ]
  },
  {
   "cell_type": "markdown",
   "id": "6dc2a7ff",
   "metadata": {},
   "source": [
    "Missing values in 'order_id' columns indicate that 11 products have never been ordered. "
   ]
  },
  {
   "cell_type": "code",
   "execution_count": 10,
   "id": "a7762774",
   "metadata": {},
   "outputs": [],
   "source": [
    "# Creating a subset of data with missing values in 'product_name' column.\n",
    "\n",
    "df_missing=df_full[df_full['product_name'].isnull()]"
   ]
  },
  {
   "cell_type": "code",
   "execution_count": 11,
   "id": "fce4351f",
   "metadata": {},
   "outputs": [
    {
     "data": {
      "text/html": [
       "<div>\n",
       "<style scoped>\n",
       "    .dataframe tbody tr th:only-of-type {\n",
       "        vertical-align: middle;\n",
       "    }\n",
       "\n",
       "    .dataframe tbody tr th {\n",
       "        vertical-align: top;\n",
       "    }\n",
       "\n",
       "    .dataframe thead th {\n",
       "        text-align: right;\n",
       "    }\n",
       "</style>\n",
       "<table border=\"1\" class=\"dataframe\">\n",
       "  <thead>\n",
       "    <tr style=\"text-align: right;\">\n",
       "      <th></th>\n",
       "      <th>order_id</th>\n",
       "      <th>product_id</th>\n",
       "      <th>add_to_cart_order</th>\n",
       "      <th>reordered</th>\n",
       "      <th>user_id</th>\n",
       "      <th>order_number</th>\n",
       "      <th>order_day_of_the_week</th>\n",
       "      <th>order_hour_of_day</th>\n",
       "      <th>days_since_prior_order</th>\n",
       "      <th>product_name</th>\n",
       "      <th>aisle_id</th>\n",
       "      <th>department_id</th>\n",
       "      <th>prices</th>\n",
       "      <th>_merge</th>\n",
       "    </tr>\n",
       "  </thead>\n",
       "  <tbody>\n",
       "    <tr>\n",
       "      <th>6024648</th>\n",
       "      <td>44.0</td>\n",
       "      <td>2240</td>\n",
       "      <td>9.0</td>\n",
       "      <td>0.0</td>\n",
       "      <td>183833.0</td>\n",
       "      <td>3.0</td>\n",
       "      <td>6.0</td>\n",
       "      <td>17.0</td>\n",
       "      <td>1.0</td>\n",
       "      <td>NaN</td>\n",
       "      <td>NaN</td>\n",
       "      <td>NaN</td>\n",
       "      <td>NaN</td>\n",
       "      <td>left_only</td>\n",
       "    </tr>\n",
       "    <tr>\n",
       "      <th>6024649</th>\n",
       "      <td>7889.0</td>\n",
       "      <td>2240</td>\n",
       "      <td>5.0</td>\n",
       "      <td>0.0</td>\n",
       "      <td>59913.0</td>\n",
       "      <td>35.0</td>\n",
       "      <td>1.0</td>\n",
       "      <td>12.0</td>\n",
       "      <td>2.0</td>\n",
       "      <td>NaN</td>\n",
       "      <td>NaN</td>\n",
       "      <td>NaN</td>\n",
       "      <td>NaN</td>\n",
       "      <td>left_only</td>\n",
       "    </tr>\n",
       "    <tr>\n",
       "      <th>6024650</th>\n",
       "      <td>8008.0</td>\n",
       "      <td>2240</td>\n",
       "      <td>5.0</td>\n",
       "      <td>1.0</td>\n",
       "      <td>167797.0</td>\n",
       "      <td>13.0</td>\n",
       "      <td>5.0</td>\n",
       "      <td>1.0</td>\n",
       "      <td>12.0</td>\n",
       "      <td>NaN</td>\n",
       "      <td>NaN</td>\n",
       "      <td>NaN</td>\n",
       "      <td>NaN</td>\n",
       "      <td>left_only</td>\n",
       "    </tr>\n",
       "    <tr>\n",
       "      <th>6024651</th>\n",
       "      <td>10548.0</td>\n",
       "      <td>2240</td>\n",
       "      <td>18.0</td>\n",
       "      <td>0.0</td>\n",
       "      <td>61148.0</td>\n",
       "      <td>33.0</td>\n",
       "      <td>4.0</td>\n",
       "      <td>9.0</td>\n",
       "      <td>11.0</td>\n",
       "      <td>NaN</td>\n",
       "      <td>NaN</td>\n",
       "      <td>NaN</td>\n",
       "      <td>NaN</td>\n",
       "      <td>left_only</td>\n",
       "    </tr>\n",
       "    <tr>\n",
       "      <th>6024652</th>\n",
       "      <td>12814.0</td>\n",
       "      <td>2240</td>\n",
       "      <td>14.0</td>\n",
       "      <td>1.0</td>\n",
       "      <td>57530.0</td>\n",
       "      <td>29.0</td>\n",
       "      <td>3.0</td>\n",
       "      <td>10.0</td>\n",
       "      <td>4.0</td>\n",
       "      <td>NaN</td>\n",
       "      <td>NaN</td>\n",
       "      <td>NaN</td>\n",
       "      <td>NaN</td>\n",
       "      <td>left_only</td>\n",
       "    </tr>\n",
       "  </tbody>\n",
       "</table>\n",
       "</div>"
      ],
      "text/plain": [
       "         order_id  product_id  add_to_cart_order  reordered   user_id  \\\n",
       "6024648      44.0        2240                9.0        0.0  183833.0   \n",
       "6024649    7889.0        2240                5.0        0.0   59913.0   \n",
       "6024650    8008.0        2240                5.0        1.0  167797.0   \n",
       "6024651   10548.0        2240               18.0        0.0   61148.0   \n",
       "6024652   12814.0        2240               14.0        1.0   57530.0   \n",
       "\n",
       "         order_number  order_day_of_the_week  order_hour_of_day  \\\n",
       "6024648           3.0                    6.0               17.0   \n",
       "6024649          35.0                    1.0               12.0   \n",
       "6024650          13.0                    5.0                1.0   \n",
       "6024651          33.0                    4.0                9.0   \n",
       "6024652          29.0                    3.0               10.0   \n",
       "\n",
       "         days_since_prior_order product_name  aisle_id  department_id  prices  \\\n",
       "6024648                     1.0          NaN       NaN            NaN     NaN   \n",
       "6024649                     2.0          NaN       NaN            NaN     NaN   \n",
       "6024650                    12.0          NaN       NaN            NaN     NaN   \n",
       "6024651                    11.0          NaN       NaN            NaN     NaN   \n",
       "6024652                     4.0          NaN       NaN            NaN     NaN   \n",
       "\n",
       "            _merge  \n",
       "6024648  left_only  \n",
       "6024649  left_only  \n",
       "6024650  left_only  \n",
       "6024651  left_only  \n",
       "6024652  left_only  "
      ]
     },
     "execution_count": 11,
     "metadata": {},
     "output_type": "execute_result"
    }
   ],
   "source": [
    "df_missing.head()"
   ]
  },
  {
   "cell_type": "code",
   "execution_count": 12,
   "id": "6936d1eb",
   "metadata": {},
   "outputs": [
    {
     "data": {
      "text/plain": [
       "(30200, 14)"
      ]
     },
     "execution_count": 12,
     "metadata": {},
     "output_type": "execute_result"
    }
   ],
   "source": [
    "df_missing.shape"
   ]
  },
  {
   "cell_type": "code",
   "execution_count": 13,
   "id": "e584b537",
   "metadata": {
    "scrolled": true
   },
   "outputs": [
    {
     "data": {
      "text/html": [
       "<div>\n",
       "<style scoped>\n",
       "    .dataframe tbody tr th:only-of-type {\n",
       "        vertical-align: middle;\n",
       "    }\n",
       "\n",
       "    .dataframe tbody tr th {\n",
       "        vertical-align: top;\n",
       "    }\n",
       "\n",
       "    .dataframe thead th {\n",
       "        text-align: right;\n",
       "    }\n",
       "</style>\n",
       "<table border=\"1\" class=\"dataframe\">\n",
       "  <thead>\n",
       "    <tr style=\"text-align: right;\">\n",
       "      <th></th>\n",
       "      <th>id</th>\n",
       "      <th>count</th>\n",
       "    </tr>\n",
       "  </thead>\n",
       "  <tbody>\n",
       "    <tr>\n",
       "      <th>0</th>\n",
       "      <td>1511</td>\n",
       "      <td>13397</td>\n",
       "    </tr>\n",
       "    <tr>\n",
       "      <th>1</th>\n",
       "      <td>34</td>\n",
       "      <td>6536</td>\n",
       "    </tr>\n",
       "    <tr>\n",
       "      <th>2</th>\n",
       "      <td>116</td>\n",
       "      <td>4359</td>\n",
       "    </tr>\n",
       "    <tr>\n",
       "      <th>3</th>\n",
       "      <td>6799</td>\n",
       "      <td>1978</td>\n",
       "    </tr>\n",
       "    <tr>\n",
       "      <th>4</th>\n",
       "      <td>4790</td>\n",
       "      <td>1804</td>\n",
       "    </tr>\n",
       "    <tr>\n",
       "      <th>5</th>\n",
       "      <td>2240</td>\n",
       "      <td>1689</td>\n",
       "    </tr>\n",
       "    <tr>\n",
       "      <th>6</th>\n",
       "      <td>262</td>\n",
       "      <td>179</td>\n",
       "    </tr>\n",
       "    <tr>\n",
       "      <th>7</th>\n",
       "      <td>3230</td>\n",
       "      <td>55</td>\n",
       "    </tr>\n",
       "    <tr>\n",
       "      <th>8</th>\n",
       "      <td>26519</td>\n",
       "      <td>51</td>\n",
       "    </tr>\n",
       "    <tr>\n",
       "      <th>9</th>\n",
       "      <td>1780</td>\n",
       "      <td>39</td>\n",
       "    </tr>\n",
       "    <tr>\n",
       "      <th>10</th>\n",
       "      <td>2586</td>\n",
       "      <td>29</td>\n",
       "    </tr>\n",
       "    <tr>\n",
       "      <th>11</th>\n",
       "      <td>69</td>\n",
       "      <td>19</td>\n",
       "    </tr>\n",
       "    <tr>\n",
       "      <th>12</th>\n",
       "      <td>525</td>\n",
       "      <td>18</td>\n",
       "    </tr>\n",
       "    <tr>\n",
       "      <th>13</th>\n",
       "      <td>4283</td>\n",
       "      <td>17</td>\n",
       "    </tr>\n",
       "    <tr>\n",
       "      <th>14</th>\n",
       "      <td>40440</td>\n",
       "      <td>13</td>\n",
       "    </tr>\n",
       "    <tr>\n",
       "      <th>15</th>\n",
       "      <td>3736</td>\n",
       "      <td>8</td>\n",
       "    </tr>\n",
       "    <tr>\n",
       "      <th>16</th>\n",
       "      <td>3159</td>\n",
       "      <td>5</td>\n",
       "    </tr>\n",
       "    <tr>\n",
       "      <th>17</th>\n",
       "      <td>38183</td>\n",
       "      <td>4</td>\n",
       "    </tr>\n",
       "  </tbody>\n",
       "</table>\n",
       "</div>"
      ],
      "text/plain": [
       "       id  count\n",
       "0    1511  13397\n",
       "1      34   6536\n",
       "2     116   4359\n",
       "3    6799   1978\n",
       "4    4790   1804\n",
       "5    2240   1689\n",
       "6     262    179\n",
       "7    3230     55\n",
       "8   26519     51\n",
       "9    1780     39\n",
       "10   2586     29\n",
       "11     69     19\n",
       "12    525     18\n",
       "13   4283     17\n",
       "14  40440     13\n",
       "15   3736      8\n",
       "16   3159      5\n",
       "17  38183      4"
      ]
     },
     "execution_count": 13,
     "metadata": {},
     "output_type": "execute_result"
    }
   ],
   "source": [
    "# Counting the records by order ID \n",
    "\n",
    "df_missing_id=df_missing['product_id'].value_counts().rename_axis('id').reset_index(name='count')\n",
    "\n",
    "df_missing_id"
   ]
  },
  {
   "cell_type": "code",
   "execution_count": 14,
   "id": "f5722270",
   "metadata": {},
   "outputs": [
    {
     "name": "stdout",
     "output_type": "stream",
     "text": [
      "[1511, 34, 116, 6799, 4790, 2240, 262, 3230, 26519, 1780, 2586, 69, 525, 4283, 40440, 3736, 3159, 38183]\n"
     ]
    }
   ],
   "source": [
    "# Creating a list of IDs with no product inormation\n",
    "\n",
    "list_id=df_missing_id['id'].to_list()\n",
    "print(list_id)"
   ]
  },
  {
   "cell_type": "markdown",
   "id": "a758ea10",
   "metadata": {},
   "source": [
    "##### Scenario: I send the list of of ids to the namager and receive the information about the missing products. I also learn that two products were accidentally recorded with a wrond ID.  \n",
    "\n",
    "Revive Zero Vitamin Water has an ID 1511  \n",
    "Cheese Shredded Sharp Cheddar Reduced Fat 2% has an ID 34\n"
   ]
  },
  {
   "cell_type": "code",
   "execution_count": 15,
   "id": "a497183f",
   "metadata": {},
   "outputs": [
    {
     "name": "stdout",
     "output_type": "stream",
     "text": [
      "[116, 6799, 4790, 2240, 262, 3230, 26519, 1780, 2586, 69, 525, 4283, 40440, 3736, 3159, 38183]\n"
     ]
    }
   ],
   "source": [
    "# Removing existing products ID from the missing IDs list\n",
    "\n",
    "list_id.remove(1511)\n",
    "list_id.remove(34)\n",
    "print(list_id)"
   ]
  },
  {
   "cell_type": "code",
   "execution_count": 16,
   "id": "9a648947",
   "metadata": {
    "scrolled": true
   },
   "outputs": [
    {
     "data": {
      "text/plain": [
       "Index(['product_id', 'product_name', 'aisle_id', 'department_id', 'prices'], dtype='object')"
      ]
     },
     "execution_count": 16,
     "metadata": {},
     "output_type": "execute_result"
    }
   ],
   "source": [
    "# Finding the correct headers for the new dataframe\n",
    "\n",
    "df_products.columns"
   ]
  },
  {
   "cell_type": "code",
   "execution_count": 17,
   "id": "71c4582c",
   "metadata": {},
   "outputs": [],
   "source": [
    "# Creating a dataframe using information about the missing products\n",
    "x=random.sample(range(1,134),len(list_id))\n",
    "y=random.sample(range(1,21),len(list_id))\n",
    "names=['Savory Crunch Mix',\n",
    "       'Yummy-yummy food',\n",
    "        'Creamy Hazelnut Delight',\n",
    "        'Zesty Mango Tango',\n",
    "        'Golden Honey Wheat',\n",
    "        'Spicy Jalapeno Fusion',\n",
    "        'Choco-Coconut Bliss',\n",
    "        'Classic Roast Blend',\n",
    "        'Crispy Onion Medley',\n",
    "        'Sweet Berry Burst',\n",
    "        'Herb-Infused Olive Elixir',\n",
    "        'Hearty Vegetable Medley',\n",
    "        'Citrus Burst Quencher',\n",
    "        'Gourmet Truffle Indulgence',\n",
    "        'Smoky BBQ Temptation',\n",
    "        'Luscious Caramel Swirl']\n",
    "prices=np.random.uniform(low=1.0, high=25.0, size=len(list_id))\n",
    "\n",
    "print(x)\n",
    "print(y)\n",
    "print(prices)\n",
    "print(len(names))"
   ]
  },
  {
   "cell_type": "code",
   "execution_count": 19,
   "id": "fe919730",
   "metadata": {},
   "outputs": [],
   "source": [
    "# Creating a new dataframe\n",
    "\n",
    "df_missing_products=pd.DataFrame({'product_id':list_id,\n",
    "                                 'product_name':names,\n",
    "                                 'aisle_id':x,\n",
    "                                 'department_id':y,\n",
    "                                 'prices':prices.round(1)})\n",
    " "
   ]
  },
  {
   "cell_type": "code",
   "execution_count": 20,
   "id": "73288341",
   "metadata": {},
   "outputs": [
    {
     "data": {
      "text/html": [
       "<div>\n",
       "<style scoped>\n",
       "    .dataframe tbody tr th:only-of-type {\n",
       "        vertical-align: middle;\n",
       "    }\n",
       "\n",
       "    .dataframe tbody tr th {\n",
       "        vertical-align: top;\n",
       "    }\n",
       "\n",
       "    .dataframe thead th {\n",
       "        text-align: right;\n",
       "    }\n",
       "</style>\n",
       "<table border=\"1\" class=\"dataframe\">\n",
       "  <thead>\n",
       "    <tr style=\"text-align: right;\">\n",
       "      <th></th>\n",
       "      <th>product_id</th>\n",
       "      <th>product_name</th>\n",
       "      <th>aisle_id</th>\n",
       "      <th>department_id</th>\n",
       "      <th>prices</th>\n",
       "    </tr>\n",
       "  </thead>\n",
       "  <tbody>\n",
       "    <tr>\n",
       "      <th>0</th>\n",
       "      <td>116</td>\n",
       "      <td>Savory Crunch Mix</td>\n",
       "      <td>87</td>\n",
       "      <td>10</td>\n",
       "      <td>7.1</td>\n",
       "    </tr>\n",
       "    <tr>\n",
       "      <th>1</th>\n",
       "      <td>6799</td>\n",
       "      <td>Yummy-yummy food</td>\n",
       "      <td>119</td>\n",
       "      <td>15</td>\n",
       "      <td>16.0</td>\n",
       "    </tr>\n",
       "    <tr>\n",
       "      <th>2</th>\n",
       "      <td>4790</td>\n",
       "      <td>Creamy Hazelnut Delight</td>\n",
       "      <td>42</td>\n",
       "      <td>17</td>\n",
       "      <td>12.7</td>\n",
       "    </tr>\n",
       "    <tr>\n",
       "      <th>3</th>\n",
       "      <td>2240</td>\n",
       "      <td>Zesty Mango Tango</td>\n",
       "      <td>8</td>\n",
       "      <td>4</td>\n",
       "      <td>5.1</td>\n",
       "    </tr>\n",
       "    <tr>\n",
       "      <th>4</th>\n",
       "      <td>262</td>\n",
       "      <td>Golden Honey Wheat</td>\n",
       "      <td>66</td>\n",
       "      <td>18</td>\n",
       "      <td>7.7</td>\n",
       "    </tr>\n",
       "    <tr>\n",
       "      <th>5</th>\n",
       "      <td>3230</td>\n",
       "      <td>Spicy Jalapeno Fusion</td>\n",
       "      <td>5</td>\n",
       "      <td>16</td>\n",
       "      <td>1.9</td>\n",
       "    </tr>\n",
       "    <tr>\n",
       "      <th>6</th>\n",
       "      <td>26519</td>\n",
       "      <td>Choco-Coconut Bliss</td>\n",
       "      <td>74</td>\n",
       "      <td>13</td>\n",
       "      <td>23.5</td>\n",
       "    </tr>\n",
       "    <tr>\n",
       "      <th>7</th>\n",
       "      <td>1780</td>\n",
       "      <td>Classic Roast Blend</td>\n",
       "      <td>15</td>\n",
       "      <td>1</td>\n",
       "      <td>12.8</td>\n",
       "    </tr>\n",
       "    <tr>\n",
       "      <th>8</th>\n",
       "      <td>2586</td>\n",
       "      <td>Crispy Onion Medley</td>\n",
       "      <td>38</td>\n",
       "      <td>2</td>\n",
       "      <td>3.3</td>\n",
       "    </tr>\n",
       "    <tr>\n",
       "      <th>9</th>\n",
       "      <td>69</td>\n",
       "      <td>Sweet Berry Burst</td>\n",
       "      <td>6</td>\n",
       "      <td>5</td>\n",
       "      <td>7.3</td>\n",
       "    </tr>\n",
       "    <tr>\n",
       "      <th>10</th>\n",
       "      <td>525</td>\n",
       "      <td>Herb-Infused Olive Elixir</td>\n",
       "      <td>104</td>\n",
       "      <td>9</td>\n",
       "      <td>15.5</td>\n",
       "    </tr>\n",
       "    <tr>\n",
       "      <th>11</th>\n",
       "      <td>4283</td>\n",
       "      <td>Hearty Vegetable Medley</td>\n",
       "      <td>116</td>\n",
       "      <td>8</td>\n",
       "      <td>4.2</td>\n",
       "    </tr>\n",
       "    <tr>\n",
       "      <th>12</th>\n",
       "      <td>40440</td>\n",
       "      <td>Citrus Burst Quencher</td>\n",
       "      <td>36</td>\n",
       "      <td>20</td>\n",
       "      <td>3.3</td>\n",
       "    </tr>\n",
       "    <tr>\n",
       "      <th>13</th>\n",
       "      <td>3736</td>\n",
       "      <td>Gourmet Truffle Indulgence</td>\n",
       "      <td>95</td>\n",
       "      <td>3</td>\n",
       "      <td>7.6</td>\n",
       "    </tr>\n",
       "    <tr>\n",
       "      <th>14</th>\n",
       "      <td>3159</td>\n",
       "      <td>Smoky BBQ Temptation</td>\n",
       "      <td>50</td>\n",
       "      <td>12</td>\n",
       "      <td>2.4</td>\n",
       "    </tr>\n",
       "    <tr>\n",
       "      <th>15</th>\n",
       "      <td>38183</td>\n",
       "      <td>Luscious Caramel Swirl</td>\n",
       "      <td>25</td>\n",
       "      <td>19</td>\n",
       "      <td>13.3</td>\n",
       "    </tr>\n",
       "  </tbody>\n",
       "</table>\n",
       "</div>"
      ],
      "text/plain": [
       "    product_id                product_name  aisle_id  department_id  prices\n",
       "0          116           Savory Crunch Mix        87             10     7.1\n",
       "1         6799            Yummy-yummy food       119             15    16.0\n",
       "2         4790     Creamy Hazelnut Delight        42             17    12.7\n",
       "3         2240           Zesty Mango Tango         8              4     5.1\n",
       "4          262          Golden Honey Wheat        66             18     7.7\n",
       "5         3230       Spicy Jalapeno Fusion         5             16     1.9\n",
       "6        26519         Choco-Coconut Bliss        74             13    23.5\n",
       "7         1780         Classic Roast Blend        15              1    12.8\n",
       "8         2586         Crispy Onion Medley        38              2     3.3\n",
       "9           69           Sweet Berry Burst         6              5     7.3\n",
       "10         525   Herb-Infused Olive Elixir       104              9    15.5\n",
       "11        4283     Hearty Vegetable Medley       116              8     4.2\n",
       "12       40440       Citrus Burst Quencher        36             20     3.3\n",
       "13        3736  Gourmet Truffle Indulgence        95              3     7.6\n",
       "14        3159        Smoky BBQ Temptation        50             12     2.4\n",
       "15       38183      Luscious Caramel Swirl        25             19    13.3"
      ]
     },
     "execution_count": 20,
     "metadata": {},
     "output_type": "execute_result"
    }
   ],
   "source": [
    "# Now I have a dataframe of missing products\n",
    "df_missing_products"
   ]
  },
  {
   "cell_type": "code",
   "execution_count": 21,
   "id": "9fbf8ee9",
   "metadata": {},
   "outputs": [
    {
     "data": {
      "text/html": [
       "<div>\n",
       "<style scoped>\n",
       "    .dataframe tbody tr th:only-of-type {\n",
       "        vertical-align: middle;\n",
       "    }\n",
       "\n",
       "    .dataframe tbody tr th {\n",
       "        vertical-align: top;\n",
       "    }\n",
       "\n",
       "    .dataframe thead th {\n",
       "        text-align: right;\n",
       "    }\n",
       "</style>\n",
       "<table border=\"1\" class=\"dataframe\">\n",
       "  <thead>\n",
       "    <tr style=\"text-align: right;\">\n",
       "      <th></th>\n",
       "      <th>product_id</th>\n",
       "      <th>product_name</th>\n",
       "      <th>aisle_id</th>\n",
       "      <th>department_id</th>\n",
       "      <th>prices</th>\n",
       "    </tr>\n",
       "  </thead>\n",
       "  <tbody>\n",
       "    <tr>\n",
       "      <th>6784</th>\n",
       "      <td>1511</td>\n",
       "      <td>Revive Zero Vitamin Water</td>\n",
       "      <td>64</td>\n",
       "      <td>7</td>\n",
       "      <td>6.4</td>\n",
       "    </tr>\n",
       "    <tr>\n",
       "      <th>26505</th>\n",
       "      <td>34</td>\n",
       "      <td>Cheese Shredded Sharp Cheddar Reduced Fat 2%</td>\n",
       "      <td>21</td>\n",
       "      <td>16</td>\n",
       "      <td>2.9</td>\n",
       "    </tr>\n",
       "  </tbody>\n",
       "</table>\n",
       "</div>"
      ],
      "text/plain": [
       "       product_id                                  product_name  aisle_id  \\\n",
       "6784         1511                     Revive Zero Vitamin Water        64   \n",
       "26505          34  Cheese Shredded Sharp Cheddar Reduced Fat 2%        21   \n",
       "\n",
       "       department_id  prices  \n",
       "6784               7     6.4  \n",
       "26505             16     2.9  "
      ]
     },
     "execution_count": 21,
     "metadata": {},
     "output_type": "execute_result"
    }
   ],
   "source": [
    "# Replacing ID of the products recorded with a mistake\n",
    "\n",
    "df_products.loc[df_products['product_name']=='Revive Zero Vitamin Water', 'product_id']=1511\n",
    "\n",
    "df_products.loc[df_products['product_name']=='Cheese Shredded Sharp Cheddar Reduced Fat 2%', 'product_id']=34\n",
    "\n",
    "df_products[df_products['product_id'].isin([1511,34])]"
   ]
  },
  {
   "cell_type": "code",
   "execution_count": 22,
   "id": "4aa72837",
   "metadata": {},
   "outputs": [],
   "source": [
    "# Concatanating the two dataframes\n",
    "\n",
    "df_products_updated=pd.concat([df_products,df_missing_products])"
   ]
  },
  {
   "cell_type": "code",
   "execution_count": 23,
   "id": "71b9fc3d",
   "metadata": {},
   "outputs": [
    {
     "data": {
      "text/html": [
       "<div>\n",
       "<style scoped>\n",
       "    .dataframe tbody tr th:only-of-type {\n",
       "        vertical-align: middle;\n",
       "    }\n",
       "\n",
       "    .dataframe tbody tr th {\n",
       "        vertical-align: top;\n",
       "    }\n",
       "\n",
       "    .dataframe thead th {\n",
       "        text-align: right;\n",
       "    }\n",
       "</style>\n",
       "<table border=\"1\" class=\"dataframe\">\n",
       "  <thead>\n",
       "    <tr style=\"text-align: right;\">\n",
       "      <th></th>\n",
       "      <th>product_id</th>\n",
       "      <th>product_name</th>\n",
       "      <th>aisle_id</th>\n",
       "      <th>department_id</th>\n",
       "      <th>prices</th>\n",
       "    </tr>\n",
       "  </thead>\n",
       "  <tbody>\n",
       "    <tr>\n",
       "      <th>0</th>\n",
       "      <td>1</td>\n",
       "      <td>Chocolate Sandwich Cookies</td>\n",
       "      <td>61</td>\n",
       "      <td>19</td>\n",
       "      <td>5.8</td>\n",
       "    </tr>\n",
       "    <tr>\n",
       "      <th>1</th>\n",
       "      <td>2</td>\n",
       "      <td>All-Seasons Salt</td>\n",
       "      <td>104</td>\n",
       "      <td>13</td>\n",
       "      <td>9.3</td>\n",
       "    </tr>\n",
       "    <tr>\n",
       "      <th>2</th>\n",
       "      <td>3</td>\n",
       "      <td>Robust Golden Unsweetened Oolong Tea</td>\n",
       "      <td>94</td>\n",
       "      <td>7</td>\n",
       "      <td>4.5</td>\n",
       "    </tr>\n",
       "    <tr>\n",
       "      <th>3</th>\n",
       "      <td>4</td>\n",
       "      <td>Smart Ones Classic Favorites Mini Rigatoni Wit...</td>\n",
       "      <td>38</td>\n",
       "      <td>1</td>\n",
       "      <td>10.5</td>\n",
       "    </tr>\n",
       "    <tr>\n",
       "      <th>4</th>\n",
       "      <td>5</td>\n",
       "      <td>Green Chile Anytime Sauce</td>\n",
       "      <td>5</td>\n",
       "      <td>13</td>\n",
       "      <td>4.3</td>\n",
       "    </tr>\n",
       "    <tr>\n",
       "      <th>...</th>\n",
       "      <td>...</td>\n",
       "      <td>...</td>\n",
       "      <td>...</td>\n",
       "      <td>...</td>\n",
       "      <td>...</td>\n",
       "    </tr>\n",
       "    <tr>\n",
       "      <th>11</th>\n",
       "      <td>4283</td>\n",
       "      <td>Hearty Vegetable Medley</td>\n",
       "      <td>116</td>\n",
       "      <td>8</td>\n",
       "      <td>4.2</td>\n",
       "    </tr>\n",
       "    <tr>\n",
       "      <th>12</th>\n",
       "      <td>40440</td>\n",
       "      <td>Citrus Burst Quencher</td>\n",
       "      <td>36</td>\n",
       "      <td>20</td>\n",
       "      <td>3.3</td>\n",
       "    </tr>\n",
       "    <tr>\n",
       "      <th>13</th>\n",
       "      <td>3736</td>\n",
       "      <td>Gourmet Truffle Indulgence</td>\n",
       "      <td>95</td>\n",
       "      <td>3</td>\n",
       "      <td>7.6</td>\n",
       "    </tr>\n",
       "    <tr>\n",
       "      <th>14</th>\n",
       "      <td>3159</td>\n",
       "      <td>Smoky BBQ Temptation</td>\n",
       "      <td>50</td>\n",
       "      <td>12</td>\n",
       "      <td>2.4</td>\n",
       "    </tr>\n",
       "    <tr>\n",
       "      <th>15</th>\n",
       "      <td>38183</td>\n",
       "      <td>Luscious Caramel Swirl</td>\n",
       "      <td>25</td>\n",
       "      <td>19</td>\n",
       "      <td>13.3</td>\n",
       "    </tr>\n",
       "  </tbody>\n",
       "</table>\n",
       "<p>49688 rows × 5 columns</p>\n",
       "</div>"
      ],
      "text/plain": [
       "    product_id                                       product_name  aisle_id  \\\n",
       "0            1                         Chocolate Sandwich Cookies        61   \n",
       "1            2                                   All-Seasons Salt       104   \n",
       "2            3               Robust Golden Unsweetened Oolong Tea        94   \n",
       "3            4  Smart Ones Classic Favorites Mini Rigatoni Wit...        38   \n",
       "4            5                          Green Chile Anytime Sauce         5   \n",
       "..         ...                                                ...       ...   \n",
       "11        4283                            Hearty Vegetable Medley       116   \n",
       "12       40440                              Citrus Burst Quencher        36   \n",
       "13        3736                         Gourmet Truffle Indulgence        95   \n",
       "14        3159                               Smoky BBQ Temptation        50   \n",
       "15       38183                             Luscious Caramel Swirl        25   \n",
       "\n",
       "    department_id  prices  \n",
       "0              19     5.8  \n",
       "1              13     9.3  \n",
       "2               7     4.5  \n",
       "3               1    10.5  \n",
       "4              13     4.3  \n",
       "..            ...     ...  \n",
       "11              8     4.2  \n",
       "12             20     3.3  \n",
       "13              3     7.6  \n",
       "14             12     2.4  \n",
       "15             19    13.3  \n",
       "\n",
       "[49688 rows x 5 columns]"
      ]
     },
     "execution_count": 23,
     "metadata": {},
     "output_type": "execute_result"
    }
   ],
   "source": [
    "df_products_updated"
   ]
  },
  {
   "cell_type": "code",
   "execution_count": 24,
   "id": "c5771c5c",
   "metadata": {},
   "outputs": [
    {
     "data": {
      "text/plain": [
       "49688"
      ]
     },
     "execution_count": 24,
     "metadata": {},
     "output_type": "execute_result"
    }
   ],
   "source": [
    "# Controlling the result\n",
    "\n",
    "len(df_products)+len(df_missing_products)"
   ]
  },
  {
   "cell_type": "code",
   "execution_count": 25,
   "id": "b9702aca",
   "metadata": {},
   "outputs": [],
   "source": [
    "# Now we can merge the updated products dataframe with the orders dataset. First, importing the dataset\n",
    "\n",
    "df_order=pd.read_pickle(os.path.join(path,'Prepared Data','orders_products_combined.pkl'))"
   ]
  },
  {
   "cell_type": "code",
   "execution_count": 26,
   "id": "17e56b6f",
   "metadata": {},
   "outputs": [],
   "source": [
    "df_order.drop(columns='_merge', inplace=True)"
   ]
  },
  {
   "cell_type": "code",
   "execution_count": 27,
   "id": "ce011a34",
   "metadata": {},
   "outputs": [],
   "source": [
    "# Merging the orders and products data using outer join\n",
    "\n",
    "df_merge_outer=df_order.merge(df_products_updated, on='product_id', how='outer', indicator=True)"
   ]
  },
  {
   "cell_type": "code",
   "execution_count": 28,
   "id": "268fa214",
   "metadata": {},
   "outputs": [
    {
     "data": {
      "text/plain": [
       "both          32434489\n",
       "right_only          11\n",
       "left_only            0\n",
       "Name: _merge, dtype: int64"
      ]
     },
     "execution_count": 28,
     "metadata": {},
     "output_type": "execute_result"
    }
   ],
   "source": [
    "df_merge_outer['_merge'].value_counts()"
   ]
  },
  {
   "cell_type": "markdown",
   "id": "3a76c4f4",
   "metadata": {},
   "source": [
    "#### Now the data is fully merged. The 11 records missing from the orders dataframe should be the products that have never been ordered and don't have a record."
   ]
  },
  {
   "cell_type": "code",
   "execution_count": 29,
   "id": "618de62a",
   "metadata": {},
   "outputs": [],
   "source": [
    "df_never_ordered=df_merge_outer[df_merge_outer['order_id'].isnull()]"
   ]
  },
  {
   "cell_type": "code",
   "execution_count": 31,
   "id": "28b6fada",
   "metadata": {},
   "outputs": [
    {
     "data": {
      "text/html": [
       "<div>\n",
       "<style scoped>\n",
       "    .dataframe tbody tr th:only-of-type {\n",
       "        vertical-align: middle;\n",
       "    }\n",
       "\n",
       "    .dataframe tbody tr th {\n",
       "        vertical-align: top;\n",
       "    }\n",
       "\n",
       "    .dataframe thead th {\n",
       "        text-align: right;\n",
       "    }\n",
       "</style>\n",
       "<table border=\"1\" class=\"dataframe\">\n",
       "  <thead>\n",
       "    <tr style=\"text-align: right;\">\n",
       "      <th></th>\n",
       "      <th>product_id</th>\n",
       "      <th>product_name</th>\n",
       "    </tr>\n",
       "  </thead>\n",
       "  <tbody>\n",
       "    <tr>\n",
       "      <th>32434489</th>\n",
       "      <td>3630</td>\n",
       "      <td>Protein Granola Apple Crisp</td>\n",
       "    </tr>\n",
       "    <tr>\n",
       "      <th>32434490</th>\n",
       "      <td>3718</td>\n",
       "      <td>Wasabi Cheddar Spreadable Cheese</td>\n",
       "    </tr>\n",
       "    <tr>\n",
       "      <th>32434491</th>\n",
       "      <td>7045</td>\n",
       "      <td>Unpeeled Apricot Halves in Heavy Syrup</td>\n",
       "    </tr>\n",
       "    <tr>\n",
       "      <th>32434492</th>\n",
       "      <td>25383</td>\n",
       "      <td>Chocolate Go Bites</td>\n",
       "    </tr>\n",
       "    <tr>\n",
       "      <th>32434493</th>\n",
       "      <td>27499</td>\n",
       "      <td>Non-Dairy Coconut Seven Layer Bar</td>\n",
       "    </tr>\n",
       "    <tr>\n",
       "      <th>32434494</th>\n",
       "      <td>36233</td>\n",
       "      <td>Water With Electrolytes</td>\n",
       "    </tr>\n",
       "    <tr>\n",
       "      <th>32434495</th>\n",
       "      <td>37703</td>\n",
       "      <td>Ultra Sun Blossom Liquid 90 loads Fabric Enhan...</td>\n",
       "    </tr>\n",
       "    <tr>\n",
       "      <th>32434496</th>\n",
       "      <td>43725</td>\n",
       "      <td>Sweetart Jelly Beans</td>\n",
       "    </tr>\n",
       "    <tr>\n",
       "      <th>32434497</th>\n",
       "      <td>45971</td>\n",
       "      <td>12 Inch Taper Candle White</td>\n",
       "    </tr>\n",
       "    <tr>\n",
       "      <th>32434498</th>\n",
       "      <td>46625</td>\n",
       "      <td>Single Barrel Kentucky Straight Bourbon Whiskey</td>\n",
       "    </tr>\n",
       "    <tr>\n",
       "      <th>32434499</th>\n",
       "      <td>49540</td>\n",
       "      <td>Pure Squeezed  Lemonade</td>\n",
       "    </tr>\n",
       "  </tbody>\n",
       "</table>\n",
       "</div>"
      ],
      "text/plain": [
       "          product_id                                       product_name\n",
       "32434489        3630                        Protein Granola Apple Crisp\n",
       "32434490        3718                   Wasabi Cheddar Spreadable Cheese\n",
       "32434491        7045             Unpeeled Apricot Halves in Heavy Syrup\n",
       "32434492       25383                                 Chocolate Go Bites\n",
       "32434493       27499                  Non-Dairy Coconut Seven Layer Bar\n",
       "32434494       36233                            Water With Electrolytes\n",
       "32434495       37703  Ultra Sun Blossom Liquid 90 loads Fabric Enhan...\n",
       "32434496       43725                               Sweetart Jelly Beans\n",
       "32434497       45971                         12 Inch Taper Candle White\n",
       "32434498       46625    Single Barrel Kentucky Straight Bourbon Whiskey\n",
       "32434499       49540                            Pure Squeezed  Lemonade"
      ]
     },
     "execution_count": 31,
     "metadata": {},
     "output_type": "execute_result"
    }
   ],
   "source": [
    "#Here is a list of products that haven't been ordered yet\n",
    "\n",
    "df_never_ordered[['product_id','product_name']]"
   ]
  },
  {
   "cell_type": "code",
   "execution_count": 32,
   "id": "ab4977ce",
   "metadata": {},
   "outputs": [],
   "source": [
    "# Exporting the complete updated dataframe\n",
    "\n",
    "df_merge_outer.to_pickle(os.path.join(path, 'Prepared Data', 'fully_updated_data_bonus.pkl'))"
   ]
  }
 ],
 "metadata": {
  "kernelspec": {
   "display_name": "Python 3 (ipykernel)",
   "language": "python",
   "name": "python3"
  },
  "language_info": {
   "codemirror_mode": {
    "name": "ipython",
    "version": 3
   },
   "file_extension": ".py",
   "mimetype": "text/x-python",
   "name": "python",
   "nbconvert_exporter": "python",
   "pygments_lexer": "ipython3",
   "version": "3.10.9"
  }
 },
 "nbformat": 4,
 "nbformat_minor": 5
}
